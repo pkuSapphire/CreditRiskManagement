{
 "cells": [
  {
   "cell_type": "markdown",
   "id": "d4f926ba-3094-4d0a-a95a-21281f1247f3",
   "metadata": {},
   "source": [
    "# Credit Risk Analytics \n",
    "# Lecture 6 - Exposure-at-Default (EAD) and Loss-Given-Default (LGD)\n",
    "\n",
    "## Today you will learn more about the other two components of Expected Loss, EAD and LGD.\n",
    "\n",
    "\n",
    "The lecture is divided into three parts.\n",
    "\n",
    "1. What are loans? and what happens in default? Before we can discuss EAD and LGD we need a common understanding of these concepts.\n",
    "\n",
    "2. EAD\n",
    "\n",
    "3. LGD\n",
    "\n",
    "\n"
   ]
  },
  {
   "cell_type": "markdown",
   "id": "f7a66ec0",
   "metadata": {},
   "source": [
    "# 1. Introduction: What are loans? What happens in default?\n",
    "\n",
    "## Bonds versus Loans\n",
    "- a bond is security that a firm sells. It promises payments of coupon at future points in time. Typically designed to trade close to _par_\n",
    "- a loan is money lent to a firm or person often by a bank that at any point in time has a principal remaining and an interest rate that determines both the magnitudes and number of future promised payments by the borrower.\n",
    "- the _coupon rate_ and the _par value_ of a loan are analogous to the _interest rate_ and _principal_ the  on a loan.\n",
    "\n",
    "## There are many types of loans, but most are a version of:\n",
    "\n",
    "- Term Loans\n",
    "- Lines of Credit (sometimes called revolvers)\n"
   ]
  },
  {
   "cell_type": "markdown",
   "id": "1ab69dc2",
   "metadata": {},
   "source": [
    "## 1A: What is a Term Loan?\n",
    "\t\n",
    "- A term loan is a loan of a fixed amount of money with a fixed payment schedule.  \n",
    "- A term loan is like a \"30-year fixed rate mortgage\".\n",
    "- A business will often sign a 5-year term loan which pays the interest and some of the principal every year (or quarter or month) and then has a balloon payment at the end.\n",
    "- Purchases of plant and equipment, in contrast, are often funded with term loans."
   ]
  },
  {
   "cell_type": "markdown",
   "id": "744f5540",
   "metadata": {},
   "source": [
    "## 1B: What is a Revolving Line of Credit?\n",
    "\n",
    "- A bank commits a facility to a borrower and charges a commitment fee and a usage fee\n",
    "- The borrower can draw down the line as required\n",
    "- Lines of credit often are used to finance things like inventory and construction projects\n",
    "- A bank typically has the ability to cut a credit line if they are aware that a borrower is in distress\n",
    "\n"
   ]
  },
  {
   "cell_type": "markdown",
   "id": "0c68d61b",
   "metadata": {},
   "source": [
    "## 1C: How \"workout\" works:\n",
    "\n",
    "- For firms with more a few hundred million or more in revenue, the default is typically resolved through either a renegotiation of payments (_a distressed exchange_) or a Chapter 11 _bankruptcy_. A Chapter 7 bankruptcy is relatively rare.\n",
    "- For a firm with a few million in revenue or less, the firm will often close up shop and the bank will recover whatever they can.  A formal bankruptcy proceeding may not happen because it is expensive and not necessary.\n",
    "- In consumer credit, the loan can be _collateralized_ (a car loan or a mortgage) in which case the lender will foreclose on the property\n",
    "- The bank may have recourse to the borrower in which case the bank may sue the borrower if the collateral doesn't cover the whole loan.\n"
   ]
  },
  {
   "cell_type": "markdown",
   "id": "070deea5-d303-470f-9d1a-f903d3b1a279",
   "metadata": {},
   "source": [
    "# 2: Exposure-at-Default\n",
    "EAD is defined as the potential exposure at default if a default were to happen within a given time horizon (eg one year).\n",
    "EAD is often scaled by the commitment amount (i.e., EAD was 100%).\n",
    "\n",
    "Most modelers either use (1) date at default or (2) date exactly one year prior to default.\n",
    "\n",
    "Over the course of a year, both the usage and the commitment amount will change.  Therefore, realized EAD can exceed 100%\n",
    "\n"
   ]
  },
  {
   "cell_type": "markdown",
   "id": "0bf3d9a2-3291-48a7-937c-dc6761fac203",
   "metadata": {},
   "source": [
    "## 2A: Utilization vs Exposure-at-Default\n",
    "\n",
    "Formally, utilization is how much a customer draws on their facilities.  EAD is the amount that is still outstanding on the day of default.\n",
    "\n",
    "### _Utilization_ is important for many reasons.\n",
    "- Utilization is maybe one of the most exciting research areas.  Knowing when and how much a customer will borrow makes it easier to forecast potential profits.\n",
    "- New Basel regulations require treasury teams to know how much liquidity they will need to extend in sudden market freezes.\n",
    "- Financial teams (FP&A) use utilization models in stress testing exercises such as CECL and CCAR\n",
    "- While macroeconomic factors are important, default is the most predictive factor in these models.\n",
    "\n",
    "### _Exposure-at-Default_ is not a utilization model.\n",
    "- EAD models rarely try to forecast utilization in non-stress situations.\n",
    "- EAD is required by Basel in all capital calculations.\n",
    "- Under Basel, unlike utilization, EAD is not allowed to decrease from current levels.\n",
    "- For example, amortization is ignored.\n",
    "- EAD is a key input to the credit side of CECL/CCAR conducted by the credit organization.\n"
   ]
  },
  {
   "cell_type": "markdown",
   "id": "0c581057-8c85-40d4-abfc-0b4790f29c48",
   "metadata": {},
   "source": [
    "## 2B: Credit Conversion Factor CCF\n",
    "\n",
    "The primary tool for calculating EAD is the CCF .\n",
    "\n",
    "\n",
    "$$\\large EAD = exposure_{tr} + CCF *(commitment_{tr} - exposure_{tr})$$\n",
    "\n",
    "where tr is the reference period.\n",
    "\n",
    "Exposure is the amount already drawn and commitment is the max amount allowed.  \n",
    "\n",
    "The CCF can be defined as:\n",
    "\n",
    "$$\\large CCF = \\frac{exposure_{td} - exposure_{tr}}{commitment_{tr} - exposure_{tr}} $$\n",
    "\n",
    "where td is time of default and tr is the reference period.\n",
    "\n",
    "This concept is sometimes referred to as LEQ or Loan Equivalent.  It is basically thinking about EAD default as the sum of two exposures the current usage and the future usage. "
   ]
  },
  {
   "cell_type": "markdown",
   "id": "7b6fe880-9be7-4537-ae9e-b1b0ffcf4cde",
   "metadata": {},
   "source": [
    "### 2C: Creating an EAD model\n",
    "The work horse for EAD is the fractional logistic model.  Surprisingly, this is simply using the logistic model where the dependent variable is either the CCFs or EAD:\n",
    "\n",
    "\n",
    "\n",
    "$$\\large CCF = Logit( x'\\beta) $$\n",
    "\n",
    "$$\\large EAD= Logit( x'\\beta) $$\n",
    "\n",
    "\n",
    "We can see some examples from the readings in the next cells."
   ]
  },
  {
   "cell_type": "markdown",
   "id": "d9d644d1-d000-4308-a788-f5fbbb0e2956",
   "metadata": {},
   "source": [
    "## Tong et al (2016)\n",
    "Tong et al tried several different models for a credit card portfolio for a bank in the UK.\n",
    "Ratings are split into four buckets (1) Aaa-A, (2) BBB-B, (3) C, and (4) unrated.\n",
    "\n",
    "<img src = \"Tong et al.jpg\" width=\"600\"/>\n",
    "\n",
    "\n",
    "Some key takeaways:\n",
    "- Ratings are an important contributor, with better rated companies having higher CCFs\n",
    "- There are definite non-linearities involved, as evidenced by the commitments and exposures affecting CCF\n",
    "- Days of delinquency is interesting because it hints at a lack of controls in UK banks\n",
    "- Finally, time to default is not useful because it can't be used in a forecast model.\n"
   ]
  },
  {
   "cell_type": "markdown",
   "id": "de8c6d46-87db-4b5b-a70d-c3381d0f17bd",
   "metadata": {},
   "source": [
    "## Moody's Analytics (2014)\n",
    "Note that Moody's Analytics uses the term LEQ where others use the term CCF and also models usage.\n",
    "\n",
    "For defaultors:\n",
    "\n",
    "$Usage = \\frac{balance_{td}}{commitment_{td-1}} $\n",
    "\n",
    "$LEQ = \\frac{balance_{td}\\; - \\; balance_{td-1}}{commitment_{td-1} - balance_{td-1}} $\n",
    "\n",
    "For non-defaultors:\n",
    "\n",
    "\n",
    "$Usage = \\frac{balance_{td}}{commitment_{td-1}} $\n",
    "\n",
    "$LEQ = \\frac{balance_{t}\\; - \\; balance_{t-1}}{commitment_{t-1} - balance_{t-1}} $\n",
    "\n",
    "\n",
    "\n",
    "<img src=\"Moody's Table 2.jpg\" width=\"700\"/><br>\n",
    "\n",
    "\n",
    "\n"
   ]
  },
  {
   "cell_type": "markdown",
   "id": "4043c5fd-13ee-4af3-a7e1-e39449ab77ee",
   "metadata": {},
   "source": [
    "<img src=\"Moody's Figure 3.jpg\" width=\"600\"/>\n",
    "\n",
    "\n"
   ]
  },
  {
   "cell_type": "markdown",
   "id": "544026f3-5ad3-4f10-a968-4ea1dd1f0b15",
   "metadata": {},
   "source": [
    "<img src=\"Moody's Table 3.jpg\" width=\"700\"/>\n",
    "\n"
   ]
  },
  {
   "cell_type": "markdown",
   "id": "cbb12826-a407-4af5-adcd-621f4573fbe9",
   "metadata": {},
   "source": [
    "# 3: Loss-Given Default (LGD)\n",
    "LGD is formally defined as the amount lost as a percentage of Exposure-at-Default (EAD) if a default were to occur in the next year.\n",
    "- This is the standard definition for bank risk management.  Other definitions are possible.\n",
    "\n",
    "## 3A: Key Concepts:\n",
    "- _Accounting_ versus _economic LGD_\n",
    "- For economic LGD, how do we determine a _discount rate_?\n",
    "- How do we treat _collateral_?\n",
    "- Do we account for that stage of the cycle?\n",
    "\n",
    "The following chart shows a very typical LGD distribution (from Araten et al (2004)):\n",
    "\n",
    "<img src=\"JPM Consumer LGD.jpg\" width=\"500\"/>\n",
    "\n",
    "Key takeaways:\n",
    "- The largest spike is at 0% accounting LGD (or very small economic LGD).\n",
    "- The highest LGD is greater than 100%\n",
    "- There is a smaller peak closer to 100% LGD.\n",
    "\n",
    "From the same paper, we see another chart showing a well known relationship between PDs and LGDs:\n",
    "\n",
    "<img src=\"JPM PD vs LGD.jpg\" width=\"500\"/>\n",
    "\n",
    "Each dot in this chart represents a single year of data.\n",
    "- Collateral might be worth less during economic downturns\n",
    "- Companies may have less value during economic downturns, due to poor earnings"
   ]
  },
  {
   "cell_type": "markdown",
   "id": "164a39b0-ec43-4ca2-a9fe-64d46901a38e",
   "metadata": {},
   "source": [
    "## 3B: LGD of Traded Debt\n",
    "Moody’s and S&P have published recovery rates based on repayment priority.\n",
    "- recovery equals one minus LGD\n",
    "- Below uses the market price one day after the default\n",
    "- Another way to get recoveries is to follow the process until resolution and keep track of all payments made.\n",
    "\n",
    "Absolute Priority Rule (APR) – creditors receive payment in the order of their priority position\n",
    "\n",
    "<img src=\"Moody's naive LGD.png\" width=\"900\"/>\n",
    "\n"
   ]
  },
  {
   "cell_type": "markdown",
   "id": "4ff0a749-f190-4d4a-bd4e-6faeb7d34d6c",
   "metadata": {},
   "source": [
    "## 3C: Accounting versus Economic LGD\n",
    "<u><i>Accounting LGD</i></u>\n",
    "- No adjustments are made to the inputs of the calculation.  \n",
    "- Used specifically for accounting exercises such as stress testing and CECL (current expected credit losses)\n",
    "\n",
    "<u><i>Economic LGD</i></u>\n",
    "- All cash flows are discounted back to the default date\n",
    "- Administrative costs are subtracted\n",
    "    - Costs for the division managing the process (usually Special Assets Division or SAD)\n",
    "    - Legal costs\n",
    "    - Costs to take ownership of the collateral and to sell it\n",
    "    - Hours spent on paperwork\n",
    "\n",
    "Example:  a corporate customer defaults but ultimately pays all due amounts after about a year.  The bank assumes a discount rate of 10% and administrative costs of 5%.\n",
    "\n",
    "    Accounting LGD = 0%\n",
    "\n",
    "    Economic LGD = 1 – (1 / 1.1) + 0.05 = 14.1%"
   ]
  },
  {
   "cell_type": "markdown",
   "id": "754c9603-4a86-4bdf-b5bf-a850a9679d24",
   "metadata": {},
   "source": [
    "## 3D: Discount Rates\n",
    "\n",
    "It can take years to recover money lost.  How do we determine an appropriate discount rate?\n",
    "\n",
    "- The interest rate on the loans is common\n",
    "- If not available, one could use an interest rate associated with a risky loan.\n",
    "\n",
    "\n"
   ]
  },
  {
   "cell_type": "markdown",
   "id": "b6039940-4dac-4b97-9600-079761aa3588",
   "metadata": {},
   "source": [
    "## 3E: LGD Drivers - Mortgages\n",
    "Source:  Qi & Yang (2009)\n",
    "\n",
    "The equation below provides some insight into typical LGD calculations.  The authors had to make several assumptions while analyzing their data set and often used market proxies.\n",
    "\n",
    "\n",
    "$\\large LGD = \\frac{CUPB + ACRINT + FLEXP +PROEXP - NETREC}{CUPB}$\n",
    "\n",
    "\n",
    "- CUPB is unpaid balance at default\n",
    "- ACRINT is the interest accrued for 3 months \n",
    "- FCLEXP is foreclosure expense (servicing and legal costs incurred from default to foreclosure) and is assumed to be $6000; \n",
    "- Property maintenance expenses (PROEXP) is assumed to be 3% of the net recovery\n",
    "- NETREC = min(NETSALVAGE, 1.5ORIGVAL), where NETSALVAGE and ORIGVAL are the salvage value net of sales costs, repairs, and original property value respectively.\n",
    "- All cash flows are discounted at the 1-year LIBOR plus 3% from the foreclosure or settlement date to the time of default.14\n"
   ]
  },
  {
   "cell_type": "markdown",
   "id": "7fbd93a6-7013-4759-a7ab-803b6a1097a4",
   "metadata": {},
   "source": [
    "## 3F: Collateral\n",
    "When collateral exists, the loan is called secured.  If not, it is called unsecured.\n",
    "\n",
    "A short and definitely not complete list of collateral types:\n",
    "- Consumer loans: houses and autos\n",
    "- Commercial loans:\n",
    "    - Accounts receivable\n",
    "    - Inventories\n",
    "    - Property, plants, and equipment\n",
    "    - Oil fields (proven and unproven)\n",
    "    - Other hard and soft commodities\n",
    "    - Copyrights, film rights, intellectual property\n",
    "    - Ships, planes, cargo containers, cars\n",
    "\n",
    "When considering collateral, one must consider several things:\n",
    "- Current value and value stability\n",
    "- Liquidity of collateral (or how easy is it to sell at a fair price)\n",
    "- LTV or Loan-to-Value ratio\n",
    "- Loan advance rate – the percentage of collateral that a customer can borrow.\n",
    "- How often and how value is assessed\n",
    "- Ability to take ownership and sell the collateral\n",
    "- Whether “recourse” to the borrower exists after the collateral is liquidated\n",
    "\n",
    "When recourse to the borrower exists, the typical process for recovery post-default is:\n",
    "- First, take ownership of the collateral and sell it\n",
    "- If money is still owed, pursue the borrower for that money"
   ]
  },
  {
   "cell_type": "markdown",
   "id": "d972ce48-a9bd-49cd-8cdb-e4db333bf53e",
   "metadata": {},
   "source": [
    "<u>Case 1 – ignoring recourse</u>\n",
    "\n",
    "<center>$\\large LGD = EAD - \\Sigma\\ \\alpha_i\\ value(collateral_i)$</center><br>\n",
    "\n",
    "Value can be either discounted or not discounted.  $\\alpha_i$ represents a realization value.\n",
    "\n",
    "\n",
    "<u>Case 2 – unsecured recourse to the borrower</u>\n",
    "\n",
    "In this case, there is an additional term, aunsecured, because anything not recovered from collateral can be realized from the borrower.\n",
    "\n",
    "<br>\n",
    "<center>$\\large LGD \\times Loan Amount = \\bigg(EAD - \\Sigma\\ \\alpha_i\\ value(collateral_i)\\bigg)(1 - \\alpha_{unsecured})$</center><br>\n",
    "\n",
    "\n",
    "In normal situations, unsecured recoveries can vary from 35% to 45% but it is possible that all of a borrower’s wealth is tied up in the collateral so nothing more can be realized.\n"
   ]
  },
  {
   "cell_type": "markdown",
   "id": "5c63d73f-3573-4001-8b93-842546aace1d",
   "metadata": {},
   "source": [
    "## 3G: LGD Modeling Concepts\n",
    "\n",
    "LGD distributions do not match most simple distributions.\n",
    "- They are not normally distributed\n",
    "- They often have peaks at both ends and only sometimes have a peak in the middle.\n",
    "- Despite that, the most common modeling method is the “fractional logistic model”.\n",
    "    - Simplistically, this is nothing more than a logistic model where the inputs are between 0 and 1 instead of being exactly 0 and 1.\n",
    "- Some try to model with a “beta” distribution which has a similar shape.\n",
    "- When we updated the Moody's Analytics LossCalc model, we used a linear model with a final transform that assured LGD were between 0 and 1.\n",
    "- Moody’s Investors Service has a waterfall model that assumes a distribution of “enterprise value at default” and then simply cascades the cash flows strictly according to position and collateral.\n",
    "\n",
    "One thing that leads to a big observation is that many 0% LGDs are ”cures”.\n",
    "- These could be due to “administrative” defaults where there was an administrative error.\n",
    "- They could be due to customers being on long vacations.\n",
    "- Some banks have two models – a “cure model” with a formal LGD model only being used if the cure model signals there will be no cure.\n",
    "- In a Chapter 11 bankruptcy, often lines of credit do not default as the borrower needs the line to keep the business open and pays it first.\n"
   ]
  },
  {
   "cell_type": "markdown",
   "id": "718c958e-273c-4b10-b012-d7af181ae45f",
   "metadata": {},
   "source": [
    "From Qi & Yang (2016):\n",
    "<img src=\"lecture6\\Qi Yang Table 5.jpg\" width=\"400\"/>\n"
   ]
  },
  {
   "cell_type": "markdown",
   "id": "d0ae6d91-8dd4-4762-a714-eba05969c6c5",
   "metadata": {},
   "source": [
    "Key takeaways:\n",
    "- The higher is the most recent LTV (CLTV), the higher is LGD (this is the most powerful indicator)\n",
    "- Stress - being in a recession leads to higher LGD\n",
    "- Cheaper homes lose more money (LNSZN = home price as a % of local median home prices)\n"
   ]
  },
  {
   "cell_type": "markdown",
   "id": "efc61679",
   "metadata": {},
   "source": [
    "# 3H: Simulation\n",
    "\n",
    "As a example, we'll simulate a mortgage, assuming:\n",
    "- a discount rate of 10% \n",
    "- admin costs of 3%. \n",
    "- no recourse to the owner and 100% recovery on the collateral\n",
    "- the recovery time between 6 months and 3 years\n",
    "\n",
    "We will show how loan to value impact LGD, but uncertain time until recovery adds an idiosyncratic component to LGD that cannot be explained by Loan to Value.\n"
   ]
  },
  {
   "cell_type": "code",
   "execution_count": 2,
   "id": "0d1f8ca0",
   "metadata": {},
   "outputs": [
    {
     "data": {
      "text/html": [
       "<div>\n",
       "<style scoped>\n",
       "    .dataframe tbody tr th:only-of-type {\n",
       "        vertical-align: middle;\n",
       "    }\n",
       "\n",
       "    .dataframe tbody tr th {\n",
       "        vertical-align: top;\n",
       "    }\n",
       "\n",
       "    .dataframe thead th {\n",
       "        text-align: right;\n",
       "    }\n",
       "</style>\n",
       "<table border=\"1\" class=\"dataframe\">\n",
       "  <thead>\n",
       "    <tr style=\"text-align: right;\">\n",
       "      <th></th>\n",
       "      <th>0</th>\n",
       "    </tr>\n",
       "  </thead>\n",
       "  <tbody>\n",
       "    <tr>\n",
       "      <th>count</th>\n",
       "      <td>100.000000</td>\n",
       "    </tr>\n",
       "    <tr>\n",
       "      <th>mean</th>\n",
       "      <td>1.648786</td>\n",
       "    </tr>\n",
       "    <tr>\n",
       "      <th>std</th>\n",
       "      <td>0.712816</td>\n",
       "    </tr>\n",
       "    <tr>\n",
       "      <th>min</th>\n",
       "      <td>0.565495</td>\n",
       "    </tr>\n",
       "    <tr>\n",
       "      <th>25%</th>\n",
       "      <td>1.016041</td>\n",
       "    </tr>\n",
       "    <tr>\n",
       "      <th>50%</th>\n",
       "      <td>1.612313</td>\n",
       "    </tr>\n",
       "    <tr>\n",
       "      <th>75%</th>\n",
       "      <td>2.311459</td>\n",
       "    </tr>\n",
       "    <tr>\n",
       "      <th>max</th>\n",
       "      <td>2.984007</td>\n",
       "    </tr>\n",
       "  </tbody>\n",
       "</table>\n",
       "</div>"
      ],
      "text/plain": [
       "                0\n",
       "count  100.000000\n",
       "mean     1.648786\n",
       "std      0.712816\n",
       "min      0.565495\n",
       "25%      1.016041\n",
       "50%      1.612313\n",
       "75%      2.311459\n",
       "max      2.984007"
      ]
     },
     "execution_count": 2,
     "metadata": {},
     "output_type": "execute_result"
    }
   ],
   "source": [
    "import numpy as np\n",
    "import matplotlib.pyplot as plt\n",
    "import pandas as pd\n",
    "\n",
    "num_cust = 100\n",
    "discount = 0.1\n",
    "admin = 0.03\n",
    "\n",
    "LTV = np.linspace(0.1, 1.5, num_cust)  # 100 equally spaced observations between 0.1, and 1.5\n",
    "res_time = np.random.rand(num_cust) * 2.5 + 0.5\n",
    "res_time2 = pd.DataFrame(res_time)\n",
    "res_time2.describe()\n"
   ]
  },
  {
   "cell_type": "code",
   "execution_count": 3,
   "id": "93178945-911d-4eb2-9d0e-da70aa4f2a8c",
   "metadata": {
    "tags": []
   },
   "outputs": [
    {
     "data": {
      "image/png": "[encoded data removed]",
      "text/plain": [
       "<Figure size 640x480 with 1 Axes>"
      ]
     },
     "metadata": {},
     "output_type": "display_data"
    }
   ],
   "source": [
    "\n",
    "collateral = (1 / (1 + discount)**res_time) - 1 * admin\n",
    "LGD = [max(0, x - y) for x, y in zip(LTV, collateral)]\n",
    "#LGD is equal to the greater of 0 and\n",
    "#LTV - collateral\n",
    "#so if LTV is 1 LGD is (1-collateral) -- how much less than the loan\n",
    "#the collateral is worth\n",
    "#if LTV is 0.5 LGD is 0.5 - collateral so if collateral is worth 50% of \n",
    "#its value the LGD is 0 as LTV is 50%\n",
    "#if LTV is 1.5 LGD is 1.5 - collateral, so if collateral is worth 100% \n",
    "#LGD is 50% as the collateral is insufficient to cover the loan.\n",
    "#if resolution time were 0 and administrative costs were 0 \n",
    "#Collateral would be 1\n",
    "#resolution time and adminsitrative costs act as a hair cut to collateral\n",
    "#value\n",
    "\n",
    "plt.plot(LTV, LGD, \"o\")\n",
    "\n",
    "# Show the plot\n",
    "plt.xlabel(\"Loan to Value\")\n",
    "plt.ylabel(\"LGD\")\n",
    "\n",
    "# Add a title to the plot\n",
    "plt.title(\"LGD as a function of Loan to Value\")\n",
    "\n",
    "# Show the plot\n",
    "plt.show()"
   ]
  },
  {
   "cell_type": "code",
   "execution_count": null,
   "id": "3f89ff6f-a754-4226-b84e-b4afed06db14",
   "metadata": {},
   "outputs": [],
   "source": []
  }
 ],
 "metadata": {
  "kernelspec": {
   "display_name": "Python 3 (ipykernel)",
   "language": "python",
   "name": "python3"
  },
  "language_info": {
   "codemirror_mode": {
    "name": "ipython",
    "version": 3
   },
   "file_extension": ".py",
   "mimetype": "text/x-python",
   "name": "python",
   "nbconvert_exporter": "python",
   "pygments_lexer": "ipython3",
   "version": "3.11.8"
  }
 },
 "nbformat": 4,
 "nbformat_minor": 5
}
