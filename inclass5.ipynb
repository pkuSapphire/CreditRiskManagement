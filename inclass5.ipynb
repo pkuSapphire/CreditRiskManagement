{
  "nbformat": 4,
  "nbformat_minor": 0,
  "metadata": {
    "colab": {
      "provenance": [],
      "authorship_tag": "ABX9TyMe8FBEStY0JOtCMt25RicJ",
      "include_colab_link": true
    },
    "kernelspec": {
      "name": "python3",
      "display_name": "Python 3"
    },
    "language_info": {
      "name": "python"
    }
  },
  "cells": [
    {
      "cell_type": "markdown",
      "metadata": {
        "id": "view-in-github",
        "colab_type": "text"
      },
      "source": [
        "<a href=\"https://colab.research.google.com/github/pkuSapphire/CreditRiskManagement/blob/main/inclass5.ipynb\" target=\"_parent\"><img src=\"https://colab.research.google.com/assets/colab-badge.svg\" alt=\"Open In Colab\"/></a>"
      ]
    },
    {
      "cell_type": "code",
      "source": [
        "# Inclass Project 5\n",
        "# By Wenyu Luo (wl2905), Edward Zhang (yz4756), Bosen Li (bl3097)\n",
        "\n",
        "import pandas as pd\n",
        "import statsmodels.api as sm\n",
        "from statsmodels.tsa.stattools import adfuller\n",
        "import pandas_datareader.data as web\n",
        "\n",
        "CRE=pd.read_excel('CRE.xlsx')\n",
        "card=pd.read_excel('card.xlsx')\n",
        "\n",
        "CRE['percentage']=(CRE['chargeoffs']/CRE['loans'])*100\n",
        "CRE.rename(columns={'date':'DATE'},inplace=True)\n",
        "\n",
        "card['percentage']=(card['chargeoffs']/card['loans'])*100\n",
        "\n",
        "\n",
        "adf_cre=adfuller(CRE['percentage'])\n",
        "print(adf_cre[1]*100)\n",
        "adf_card=adfuller(card['percentage'])\n",
        "print(adf_card[1]*100)\n",
        "\n",
        "print('So they are not stationary time series data.')\n",
        "\n",
        "unemployment=web.DataReader(\"UNRATE\",\"fred\",start='2000-01-01')\n",
        "oil=web.DataReader(\"DCOILBRENTEU\",\"fred\",start='2000-01-01')\n",
        "gdp=web.DataReader(\"GDP\",\"fred\",start='2000-01-01')\n",
        "gdp['GDP_lag']=gdp['GDP'].shift(1)\n",
        "gdp['GDP_growth']=(gdp['GDP']-gdp['GDP_lag'])/gdp['GDP_lag']\n",
        "\n",
        "unemployment.reset_index(inplace=True)\n",
        "unemployment['DATE']=pd.to_datetime(unemployment['DATE'])\n",
        "unemployment['DATE']=unemployment['DATE']-pd.Timedelta(days=1)\n",
        "unemployment = unemployment.resample('Q', on='DATE').last()\n",
        "\n",
        "gdp.reset_index(inplace=True)\n",
        "gdp['DATE']=pd.to_datetime(gdp['DATE'])\n",
        "gdp['DATE']=gdp['DATE']-pd.Timedelta(days=1)\n",
        "\n",
        "ug=pd.merge(unemployment,gdp,on='DATE',how='left')\n",
        "df=pd.merge(ug,CRE,on='DATE',how='left')\n",
        "df=df[~df['percentage'].isna()]\n",
        "print(df)\n"
      ],
      "metadata": {
        "colab": {
          "base_uri": "https://localhost:8080/"
        },
        "id": "HPTiA2OWgvaa",
        "outputId": "d9aff2a8-3f72-40d2-b91e-5238dcc36757"
      },
      "execution_count": 48,
      "outputs": [
        {
          "output_type": "stream",
          "name": "stdout",
          "text": [
            "48.91290849015038\n",
            "5.327023403448031\n",
            "So they are not stationary time series data.\n",
            "         DATE  UNRATE        GDP    GDP_lag  GDP_growth         loans  \\\n",
            "5  2001-03-31     4.4  10599.000  10470.231    0.012299  5.639492e+08   \n",
            "6  2001-06-30     4.6  10598.020  10599.000   -0.000092  5.724727e+08   \n",
            "7  2001-09-30     5.3  10660.465  10598.020    0.005892  5.895986e+08   \n",
            "8  2001-12-31     5.7  10783.500  10660.465    0.011541  6.043859e+08   \n",
            "9  2002-03-31     5.9  10887.460  10783.500    0.009641  6.195734e+08   \n",
            "..        ...     ...        ...        ...         ...           ...   \n",
            "76 2018-12-31     4.0  21111.600  20917.867    0.009262  2.120682e+09   \n",
            "77 2019-03-31     3.7  21397.938  21111.600    0.013563  2.139704e+09   \n",
            "78 2019-06-30     3.7  21717.171  21397.938    0.014919  2.168562e+09   \n",
            "79 2019-09-30     3.6  21933.217  21717.171    0.009948  2.193475e+09   \n",
            "80 2019-12-31     3.6  21727.657  21933.217   -0.009372  2.215360e+09   \n",
            "\n",
            "    chargeoffs  percentage  \n",
            "5     237847.0    0.042175  \n",
            "6     233341.0    0.040760  \n",
            "7     277154.0    0.047007  \n",
            "8     481878.0    0.079730  \n",
            "9     340219.0    0.054912  \n",
            "..         ...         ...  \n",
            "76    398704.0    0.018801  \n",
            "77    266191.0    0.012441  \n",
            "78    247132.0    0.011396  \n",
            "79    336289.0    0.015331  \n",
            "80    300470.0    0.013563  \n",
            "\n",
            "[76 rows x 8 columns]\n"
          ]
        },
        {
          "output_type": "stream",
          "name": "stderr",
          "text": [
            "<ipython-input-48-06a208b47141>:34: FutureWarning: 'Q' is deprecated and will be removed in a future version, please use 'QE' instead.\n",
            "  unemployment = unemployment.resample('Q', on='DATE').last()\n"
          ]
        }
      ]
    },
    {
      "cell_type": "code",
      "source": [
        "print(oil)"
      ],
      "metadata": {
        "colab": {
          "base_uri": "https://localhost:8080/"
        },
        "id": "4NaXYgIimU2N",
        "outputId": "9c9d9b20-2a4b-4fb4-f596-9b79857f6838"
      },
      "execution_count": 49,
      "outputs": [
        {
          "output_type": "stream",
          "name": "stdout",
          "text": [
            "            DCOILBRENTEU\n",
            "DATE                    \n",
            "2000-01-03           NaN\n",
            "2000-01-04         23.95\n",
            "2000-01-05         23.72\n",
            "2000-01-06         23.55\n",
            "2000-01-07         23.35\n",
            "...                  ...\n",
            "2024-09-24         75.29\n",
            "2024-09-25         75.40\n",
            "2024-09-26         73.06\n",
            "2024-09-27         71.63\n",
            "2024-09-30         72.35\n",
            "\n",
            "[6456 rows x 1 columns]\n"
          ]
        }
      ]
    }
  ]
}