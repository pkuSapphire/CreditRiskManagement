{
  "nbformat": 4,
  "nbformat_minor": 0,
  "metadata": {
    "colab": {
      "provenance": [],
      "authorship_tag": "ABX9TyNce7QNZWmjgt2cI+2J5hUB",
      "include_colab_link": true
    },
    "kernelspec": {
      "name": "python3",
      "display_name": "Python 3"
    },
    "language_info": {
      "name": "python"
    }
  },
  "cells": [
    {
      "cell_type": "markdown",
      "metadata": {
        "id": "view-in-github",
        "colab_type": "text"
      },
      "source": [
        "<a href=\"https://colab.research.google.com/github/pkuSapphire/CreditRiskManagement/blob/main/inClassProject6.ipynb\" target=\"_parent\"><img src=\"https://colab.research.google.com/assets/colab-badge.svg\" alt=\"Open In Colab\"/></a>"
      ]
    },
    {
      "cell_type": "markdown",
      "source": [
        "# In-class Project 6:\n",
        "\n",
        "By Bosen Li (bl3097), Wenyu Luo (wl2905), Edward Zhang (yz4756)"
      ],
      "metadata": {
        "id": "n2suTBjwdDpZ"
      }
    },
    {
      "cell_type": "code",
      "execution_count": 8,
      "metadata": {
        "colab": {
          "base_uri": "https://localhost:8080/"
        },
        "id": "Hwn25IXwc6wt",
        "outputId": "8cf61e35-1a95-49dd-e176-22e3d33bd47d"
      },
      "outputs": [
        {
          "output_type": "stream",
          "name": "stdout",
          "text": [
            "Enterprise value: 50, LGDs: {1: 50.0, 2: 100.0, 3: 100.0}\n",
            "Enterprise value: 100, LGDs: {1: 0, 2: 100.0, 3: 100.0}\n",
            "Enterprise value: 150, LGDs: {1: 0, 2: 33.33333333333333, 3: 100.0}\n",
            "Enterprise value: 200, LGDs: {1: 0, 2: 0, 3: 0}\n"
          ]
        }
      ],
      "source": [
        "def calculate_lgd(loans, remaining_value):\n",
        "    total_lgd = {}\n",
        "    for priority in sorted(loans.keys()):\n",
        "        loan_amount = loans[priority][0]\n",
        "        if remaining_value >= loan_amount:\n",
        "            total_lgd[priority] = 0\n",
        "            remaining_value -= loan_amount\n",
        "        else:\n",
        "            lgd = (loan_amount - remaining_value) / loan_amount * 100\n",
        "            total_lgd[priority] = lgd\n",
        "            remaining_value = 0\n",
        "    return total_lgd\n",
        "\n",
        "loans = {1: [100], 2: [75], 3: [25]}\n",
        "\n",
        "values_to_test = [50, 100, 150, 200]\n",
        "results = {}\n",
        "\n",
        "for value in values_to_test:\n",
        "    results[value] = calculate_lgd(loans, value)\n",
        "\n",
        "for value, lgd in results.items():\n",
        "    print(f\"Enterprise value: {value}, LGDs: {lgd}\")\n"
      ]
    }
  ]
}